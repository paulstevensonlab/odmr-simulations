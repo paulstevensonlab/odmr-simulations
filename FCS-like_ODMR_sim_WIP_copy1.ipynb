{
 "cells": [
  {
   "cell_type": "code",
   "execution_count": 1,
   "id": "d82f7563",
   "metadata": {},
   "outputs": [],
   "source": [
    "import numpy as np\n",
    "import h5py\n",
    "import flos_backend as fcs\n",
    "import argparse"
   ]
  },
  {
   "cell_type": "code",
   "execution_count": 2,
   "id": "efb18a6b",
   "metadata": {},
   "outputs": [
    {
     "name": "stderr",
     "output_type": "stream",
     "text": [
      "usage: ipykernel_launcher.py [-h] -i I -ct CT -c C -f F -t T -a A\n",
      "ipykernel_launcher.py: error: the following arguments are required: -i, -ct, -c, -f, -t, -a\n"
     ]
    },
    {
     "ename": "SystemExit",
     "evalue": "2",
     "output_type": "error",
     "traceback": [
      "An exception has occurred, use %tb to see the full traceback.\n",
      "\u001b[0;31mSystemExit\u001b[0m\u001b[0;31m:\u001b[0m 2\n"
     ]
    },
    {
     "name": "stderr",
     "output_type": "stream",
     "text": [
      "/opt/anaconda3/lib/python3.8/site-packages/IPython/core/interactiveshell.py:3445: UserWarning: To exit: use 'exit', 'quit', or Ctrl-D.\n",
      "  warn(\"To exit: use 'exit', 'quit', or Ctrl-D.\", stacklevel=1)\n"
     ]
    }
   ],
   "source": [
    "hf = h5py.File('data.h5', 'w')\n",
    "class FLOS:\n",
    "    def __init__(self, time, x_range, itr=1000, tau=50, amp=0.5, contrast_values=0.2, counts_values=10, FWHM=0.002):\n",
    "        self.itr = itr\n",
    "        self.time = time\n",
    "        self.x_range = x_range\n",
    "        self.tau = tau\n",
    "        self.amp = amp\n",
    "        self.contrast_values = contrast_values\n",
    "        self.counts_values = counts_values\n",
    "        self.FWHM = FWHM\n",
    "\n",
    "\n",
    "    def run_sim(self, save_on = True):\n",
    "        if save_on:\n",
    "\n",
    "            hf.create_dataset('parent_contrast_values', data=self.contrast_values)\n",
    "            hf.create_dataset('parent_counts_values', data=self.counts_values)\n",
    "            hf.create_dataset('parent_FWHM_values', data=self.FWHM)\n",
    "            hf.create_dataset('parent_tau_values', data=self.tau)\n",
    "            hf.create_dataset('parent_amplitude_values', data=self.amp)\n",
    "\n",
    "        acf_norm_mag_array, acf_norm_odmr_array1, acf_norm_odmr_array2, autocorr_mag_data, autocorr_odmr_data1, autocorr_odmr_data2, noisy_odmr_autocorr_1, noisy_odmr_autocorr_2, photon_trajectory, noisy_w_1_array, noisy_w_2_array = fcs.arrays(self.itr, self.time)\n",
    "\n",
    "        freq_1, freq_2 = fcs.freq_point(self.x_range, self.FWHM)\n",
    "\n",
    "        for w in range(self.itr):\n",
    "\n",
    "            noisy_w_1, noisy_w_2, noisy_mag_fields, noisy_w_1_array, noisy_w_2_array = fcs.freq_func(self.itr, self.tau, self.time, self.amp, noisy_w_1_array, noisy_w_2_array, w)\n",
    "            \n",
    "\n",
    "            noise_odmr_spectrum, noise_noisy_odmr_spectrum = fcs.simulate_ODMR(freq_1, \n",
    "                                                                            self.FWHM, np.asarray(noisy_w_1_array[w, :]), self.FWHM, np.asarray(noisy_w_2_array[w, :]), self.contrast_values, self.counts_values) # you can pass the array directly to the function to avoid another nested loop\n",
    "                                                                                                                            \n",
    "                                                                                                                                                # and we only need to calculate the count rate at one frequency\n",
    "            photon_trajectory[w, :] = np.asarray(noise_noisy_odmr_spectrum)\n",
    "\n",
    "            acf_norm_mag, acf_norm_odmr1, acf_norm_odmr2 = fcs.corr_analysis(noisy_mag_fields, self.time, photon_trajectory, w, \n",
    "                        autocorr_mag_data, autocorr_odmr_data1, autocorr_odmr_data2, \n",
    "                        acf_norm_mag_array, acf_norm_odmr_array1, acf_norm_odmr_array2)\n",
    "            \n",
    "        \n",
    "\n",
    "        average_mag_array, average_odmr_array1, average_odmr_array2, avg_noisy_mag_autocorr_fit, avg_noisy_odmr_autocorr_fit1, avg_noisy_odmr_autocorr_fit2 = fcs.avg_corr_analysis(acf_norm_mag_array, acf_norm_odmr_array1, acf_norm_odmr_array2, self.tau, self.time)\n",
    "\n",
    "       \n",
    "        if save_on:\n",
    "\n",
    "            hf.create_dataset('time', data = self.time)\n",
    "            hf.create_dataset('freq_1_pos', data=freq_1)\n",
    "            hf.create_dataset('freq_2_pos', data=freq_2)\n",
    "            hf.create_dataset('all_magfield_autocorrelation_arrays', data = acf_norm_mag_array)\n",
    "            hf.create_dataset('all_odmr_autocorrelation_arrays_1', data = acf_norm_odmr_array1)\n",
    "            hf.create_dataset('all_odmr_autocorrelation_arrays_2', data = acf_norm_odmr_array2)\n",
    "            hf.create_dataset('average_magfield_autocorrelation', data = average_mag_array)\n",
    "            hf.create_dataset('average_magfield_autocorrelation_fit', data = avg_noisy_mag_autocorr_fit.best_fit)\n",
    "            hf.create_dataset('average_odmr_autocorrelation_1', data = average_odmr_array1)\n",
    "            hf.create_dataset('average_odmr_autocorrelation_2', data = average_odmr_array2)\n",
    "            hf.create_dataset('average_odmr_autocorrelation_fit_1', data = avg_noisy_odmr_autocorr_fit1.best_fit)\n",
    "            hf.create_dataset('average_odmr_autocorrelation_fit_2', data = avg_noisy_odmr_autocorr_fit2.best_fit)\n",
    "            hf.create_dataset('avg_magfield_fit_characteristic_diffusion_time', data = avg_noisy_mag_autocorr_fit.params['e_decay'].value)\n",
    "            hf.create_dataset('avg_odmr1_fit_characteristic_diffusion_time', data = avg_noisy_odmr_autocorr_fit1.params['e_decay'].value)\n",
    "            hf.create_dataset('avg_odmr2_fit_characteristic_diffusion_time', data = avg_noisy_odmr_autocorr_fit2.params['e_decay'].value)\n",
    "            hf.close()\n",
    "                \n",
    "            \n",
    "\n",
    "def main():\n",
    "\n",
    "    parser = argparse.ArgumentParser(description='Run FLOS simulation with specified parameters.')\n",
    "    parser.add_argument('-i', type=int, default = 1000, required=True,  help = 'define # iteration')\n",
    "    parser.add_argument('-ct', type=float, default = 0.2, required=True,  help = 'define contrast value')\n",
    "    parser.add_argument('-c', type=float, default = 10, required=True, help = 'define raw counts value')\n",
    "    parser.add_argument('-f', type=float, default = 0.002, required=True, help = 'define FWHM value')\n",
    "    parser.add_argument('-t', type=float, default = 50, required=True, help = 'define characteristic diffusion time')\n",
    "    parser.add_argument('-a', type=float, default = 0.5, required=True, help = 'define amplitude of noisy mag field')\n",
    "    args = parser.parse_args()\n",
    "\n",
    "    time = np.linspace(0.0, 5e04, 5001)\n",
    "    x_range = np.linspace(2.7, 3.0, time.size)\n",
    "    flos = FLOS(time, x_range, args.i, args.t, args.a, args.ct, args.c, args.f)\n",
    "\n",
    "\n",
    "    flos.run_sim()\n",
    "if __name__ == '__main__':\n",
    "    main()\n"
   ]
  }
 ],
 "metadata": {
  "kernelspec": {
   "display_name": "Python 3",
   "language": "python",
   "name": "python3"
  },
  "language_info": {
   "codemirror_mode": {
    "name": "ipython",
    "version": 3
   },
   "file_extension": ".py",
   "mimetype": "text/x-python",
   "name": "python",
   "nbconvert_exporter": "python",
   "pygments_lexer": "ipython3",
   "version": "3.8.8"
  }
 },
 "nbformat": 4,
 "nbformat_minor": 5
}
