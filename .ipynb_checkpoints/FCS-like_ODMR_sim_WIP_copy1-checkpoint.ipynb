{
 "cells": [
  {
   "cell_type": "code",
   "execution_count": 1,
   "id": "d82f7563",
   "metadata": {},
   "outputs": [],
   "source": [
    "import numpy as np\n",
    "import matplotlib.pyplot as plt\n",
    "import lmfit as lm\n",
    "import sympy as sp\n",
    "import h5py\n",
    "import fcs_demo as fcs\n",
    "from scipy import signal\n",
    "import argparse"
   ]
  },
  {
   "cell_type": "code",
   "execution_count": 2,
   "id": "5f70007f",
   "metadata": {
    "tags": [
     "parameters"
    ]
   },
   "outputs": [],
   "source": [
    "# contrast_values = 0.05\n",
    "# counts_values = 50.0\n",
    "# FWHM = 0.001 #GHz\n",
    "# tau = 500 #us\n",
    "# amp = 0.5\n",
    "\n",
    "# contrast_values = 'contrast_values'\n",
    "# counts_values = 'counts_values'\n",
    "# FWHM = 'FWHM'\n",
    "# tau =  'tau'\n",
    "# amp = 'amp'\n"
   ]
  },
  {
   "cell_type": "code",
   "execution_count": 3,
   "id": "efb18a6b",
   "metadata": {},
   "outputs": [
    {
     "name": "stderr",
     "output_type": "stream",
     "text": [
      "usage: ipykernel_launcher.py [-h] -i I -ct CT -c C -f F -t T -a A\n",
      "ipykernel_launcher.py: error: the following arguments are required: -i, -ct, -c, -f, -t, -a\n"
     ]
    },
    {
     "ename": "SystemExit",
     "evalue": "2",
     "output_type": "error",
     "traceback": [
      "An exception has occurred, use %tb to see the full traceback.\n",
      "\u001b[0;31mSystemExit\u001b[0m\u001b[0;31m:\u001b[0m 2\n"
     ]
    },
    {
     "name": "stderr",
     "output_type": "stream",
     "text": [
      "/opt/anaconda3/lib/python3.8/site-packages/IPython/core/interactiveshell.py:3445: UserWarning: To exit: use 'exit', 'quit', or Ctrl-D.\n",
      "  warn(\"To exit: use 'exit', 'quit', or Ctrl-D.\", stacklevel=1)\n"
     ]
    }
   ],
   "source": [
    "class FLOS:\n",
    "    def __init__(self, itr, time, x_range, tau, amp, contrast_values, counts_values, FWHM):\n",
    "        self.itr = itr\n",
    "        self.time = time\n",
    "        self.x_range = x_range\n",
    "        self.tau = tau\n",
    "        self.amp = amp\n",
    "        self.contrast_values = contrast_values\n",
    "        self.counts_values = counts_values\n",
    "        self.FWHM = FWHM\n",
    "\n",
    "\n",
    "    def run_sim(self):\n",
    "        fig, axes = plt.subplots(2, 4, figsize=(20, 8), sharex=False, sharey=False)\n",
    "        # self.time = np.linspace(0.0, 5e04, 5001)\n",
    "        # self.x_range = np.linspace(2.7, 3.0, self.time.size) # GHz\n",
    "        # self.itr = 1000\n",
    "\n",
    "        \n",
    "\n",
    "        acf_norm_mag_array, acf_norm_odmr_array1, acf_norm_odmr_array2, autocorr_mag_data, autocorr_odmr_data1, autocorr_odmr_data2, noisy_odmr_autocorr_1, noisy_odmr_autocorr_2, photon_trajectory, noisy_w_1_array, noisy_w_2_array = fcs.arrays(self.itr, self.time)\n",
    "\n",
    "        freq_1, freq_2 = fcs.freq_point(self.x_range, self.FWHM)\n",
    "\n",
    "        for w in range(self.itr):\n",
    "            noisy_w_1, noisy_w_2, noisy_mag_fields, noisy_w_1_array, noisy_w_2_array = fcs.freq_func(self.itr, self.tau, self.time, self.amp, noisy_w_1_array, noisy_w_2_array, w)\n",
    "\n",
    "            noise_odmr_spectrum, noise_noisy_odmr_spectrum = fcs.simulate_ODMR(freq_1, \n",
    "                                                                            FWHM, np.asarray(noisy_w_1_array[w, :]), self.FWHM, np.asarray(noisy_w_2_array[w, :]), self.contrast_values, self.counts_values) # you can pass the array directly to the function to avoid another nested loop\n",
    "                                                                                                                            \n",
    "                                                                                                                                                # and we only need to calculate the count rate at one frequency\n",
    "            photon_trajectory[w, :] = np.asarray(noise_noisy_odmr_spectrum)\n",
    "\n",
    "            acf_norm_mag, acf_norm_odmr1, acf_norm_odmr2 = fcs.corr_analysis(noisy_mag_fields, self.time, photon_trajectory, w, \n",
    "                        autocorr_mag_data, autocorr_odmr_data1, autocorr_odmr_data2, \n",
    "                        acf_norm_mag_array, acf_norm_odmr_array1, acf_norm_odmr_array2)\n",
    "            \n",
    "            \n",
    "\n",
    "\n",
    "            axes[0, 0].plot(self.time, acf_norm_mag, 'o')\n",
    "            axes[0, 0].set_title('magnetic field correlation')\n",
    "\n",
    "            axes[0, 1].plot(self.time, acf_norm_odmr1, 'o')\n",
    "            axes[0, 1].set_title('w1 odmr correlation')\n",
    "            \n",
    "            axes[0, 2].plot(self.time, acf_norm_odmr2, 'o')\n",
    "            axes[0, 2].set_title('w2 odmr correlation')\n",
    "\n",
    "            axes[0, 0].set_xlim(0,2000)\n",
    "            axes[0, 1].set_xlim(0,2000)\n",
    "            axes[0, 2].set_xlim(0,2000)\n",
    "\n",
    "        average_mag_array, average_odmr_array1, average_odmr_array2, avg_noisy_mag_autocorr_fit, avg_noisy_odmr_autocorr_fit1, avg_noisy_odmr_autocorr_fit2 = fcs.avg_corr_analysis(acf_norm_mag_array, acf_norm_odmr_array1, acf_norm_odmr_array2, self.tau, self.time)\n",
    "\n",
    "\n",
    "        axes[1, 0].plot(self.time[1:], avg_noisy_mag_autocorr_fit.best_fit, '--', label = f\"Fit, T_fit={avg_noisy_mag_autocorr_fit.params['e_decay'].value:.3f}, \\n T_char={tau:.3f}\")\n",
    "        axes[1, 0].plot(self.time[1:], average_mag_array[1:], 'o', label = f'Corr, T_char={tau:.3f}')\n",
    "        axes[1, 0].set_title('magnetic field correlation')\n",
    "        axes[1, 0].legend()\n",
    "\n",
    "        axes[1, 1].plot(self.time[1:], avg_noisy_odmr_autocorr_fit1.best_fit, '--', label = f\"Fit, T_fit={avg_noisy_odmr_autocorr_fit1.params['e_decay'].value:.3f}, \\n T_char={tau:.3f}\")\n",
    "        axes[1, 1].plot(self.time[1:], average_odmr_array1[1:], 'o', label = f'Corr, T_char={tau:.3f}')\n",
    "        axes[1, 1].set_title('w1 odmr correlation')\n",
    "        axes[1, 1].legend()\n",
    "\n",
    "        axes[1, 2].plot(self.time[1:], avg_noisy_odmr_autocorr_fit2.best_fit, '--', label = f\"Fit, T_fit={avg_noisy_odmr_autocorr_fit2.params['e_decay'].value:.3f}, \\n T_char={tau:.3f}\")\n",
    "        axes[1, 2].plot(self.time[1:], average_odmr_array2[1:], 'o', label = f'Corr, T_char={tau:.3f}')\n",
    "        axes[1, 2].set_title('w2 odmr correlation')\n",
    "        axes[1, 2].legend()\n",
    "\n",
    "        axes[1, 0].set_xlim(0,1000)\n",
    "        axes[1, 1].set_xlim(0,1000)\n",
    "        axes[1, 2].set_xlim(0,1000)\n",
    "            \n",
    "        axes[1, 3].plot(self.time, photon_trajectory[0,:], 'o', alpha = 0.2)\n",
    "        axes[1, 3].set_title('photon trajectory')\n",
    "            \n",
    "\n",
    "def main():\n",
    "\n",
    "    parser = argparse.ArgumentParser(description='Run FLOS simulation with specified parameters.')\n",
    "    parser.add_argument('-i', type=int, required=True,  help = 'define # iteration')\n",
    "    parser.add_argument('-ct', type=float, required=True,  help = 'define contrast value')\n",
    "    parser.add_argument('-c', type=float, required=True, help = 'define raw counts value')\n",
    "    parser.add_argument('-f', type=float, required=True, help = 'define FWHM value')\n",
    "    parser.add_argument('-t', type=float, required=True, help = 'define characteristic diffusion time')\n",
    "    parser.add_argument('-a', type=float, required=True, help = 'define amplitude of noisy mag field')\n",
    "    args = parser.parse_args()\n",
    "\n",
    "    time = np.linspace(0.0, 5e04, 5001)\n",
    "    x_range = np.linspace(2.7, 3.0, time.size)\n",
    "    flos = FLOS(args.i, time, x_range, args.t, args.a, args.ct, args.c, args.f)\n",
    "\n",
    "\n",
    "    flos.run_sim()\n",
    "if __name__ == '__main__':\n",
    "    main()\n",
    "\n",
    "\n",
    "# if __name__ == \"__main__\":\n",
    "#     # Define parameters\n",
    "#     itr = 1000\n",
    "#     time = np.linspace(0.0, 5e04, 5001)\n",
    "#     x_range = np.linspace(2.7, 3.0, time.size)\n",
    "#     tau = 500\n",
    "#     amp = 0.5\n",
    "#     contrast_values =  0.05\n",
    "#     counts_values =  50\n",
    "#     FWHM = 0.001\n",
    "\n",
    "#     # Create an instance of the FCSAnalysis class\n",
    "#     flos = FLOS(itr, time, x_range, tau, amp, contrast_values, counts_values, FWHM)\n",
    "\n",
    "#     # Run the simulation\n",
    "    # flos.run_sim()\n"
   ]
  },
  {
   "cell_type": "code",
   "execution_count": 19,
   "id": "465d1837",
   "metadata": {},
   "outputs": [],
   "source": [
    "# hf.close()\n",
    "\n",
    "# hf = h5py.File('data.h5', 'w')\n",
    "# hf.create_dataset('contrast_values', data=contrast_values)\n",
    "# hf.create_dataset('counts_values', data=counts_values)\n",
    "# hf.create_dataset('FWHM_values', data=FWHM)\n",
    "# hf.create_dataset('tau_values', data=tau)\n",
    "# hf.create_dataset('amplitude_values', data=amp)\n",
    "# hf.create_dataset('freq_1', data = noisy_w1)\n",
    "# hf.create_dataset('freq_2', data = noisy_w2)\n",
    "# hf.create_dataset('freq_1_pos', data=freq_1)\n",
    "# hf.create_dataset('freq_2_pos', data=freq_2)\n",
    "# hf.create_dataset('mag_autocorrelation', data = stacked_mag_arrays)\n",
    "# hf.create_dataset('odmr_autocorrelation_1', data = stacked_odmr_arrays1)\n",
    "# hf.create_dataset('odmr_autocorrelation_2', data = stacked_odmr_arrays2)\n",
    "# hf.create_dataset('average_magfield_autocorrelaiton', data = average_mag_array)\n",
    "# hf.create_dataset('average_magfield_autocorrelaiton_fit', data = avg_noisy_mag_autocorr_fit.best_fit)\n",
    "# hf.create_dataset('average_odmr_autocorrelaiton_1', data = average_odmr_array1)\n",
    "# hf.create_dataset('average_odmr_autocorrelaiton_2', data = average_odmr_array2)\n",
    "# hf.create_dataset('average_odmr_autocorrelaiton_fit_1', data = avg_noisy_odmr_autocorr_fit1.best_fit)\n",
    "# hf.create_dataset('average_odmr_autocorrelaiton_fit_2', data = avg_noisy_odmr_autocorr_fit2.best_fit)\n",
    "# hf.close()\n",
    "\n"
   ]
  },
  {
   "cell_type": "code",
   "execution_count": 23,
   "id": "bf3d2a7d",
   "metadata": {},
   "outputs": [
    {
     "name": "stdout",
     "output_type": "stream",
     "text": [
      "<HDF5 dataset \"FWHM_values\": shape (1,), type \"<f8\">\n"
     ]
    }
   ],
   "source": [
    "# hf.close()\n",
    "\n",
    "# hf = h5py.File('data.h5', 'r')\n",
    "# hf.keys()\n",
    "# FWHM = hf.get('FWHM_values')\n",
    "# print(FWHM)\n",
    "\n",
    "# hf.close()"
   ]
  }
 ],
 "metadata": {
  "kernelspec": {
   "display_name": "Python 3",
   "language": "python",
   "name": "python3"
  },
  "language_info": {
   "codemirror_mode": {
    "name": "ipython",
    "version": 3
   },
   "file_extension": ".py",
   "mimetype": "text/x-python",
   "name": "python",
   "nbconvert_exporter": "python",
   "pygments_lexer": "ipython3",
   "version": "3.8.8"
  }
 },
 "nbformat": 4,
 "nbformat_minor": 5
}
